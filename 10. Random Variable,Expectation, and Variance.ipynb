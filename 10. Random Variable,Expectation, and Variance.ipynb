{
    "cells": [
        {
            "cell_type": "code",
            "execution_count": 1,
            "metadata": {
                "collapsed": true
            },
            "outputs": [],
            "source": "import numpy as np"
        },
        {
            "cell_type": "markdown",
            "metadata": {},
            "source": "### Joint distribution of two discrete random variables\nThe probabilities are organized in a 2D array, where the columns correspond to values of $x$ and the rows correspond to values of $y$"
        },
        {
            "cell_type": "code",
            "execution_count": 2,
            "metadata": {},
            "outputs": [
                {
                    "name": "stdout",
                    "output_type": "stream",
                    "text": "[[ 2.  2.  4.]\n [ 1.  1.  2.]]\n"
                }
            ],
            "source": "#### We start with positive weights that don't sum to 1\nP=np.array([[2.,2,4],[1,1,2]])\nP2=P\nprint(P)"
        },
        {
            "cell_type": "code",
            "execution_count": 3,
            "metadata": {
                "collapsed": true
            },
            "outputs": [],
            "source": "P[0,0]=0"
        },
        {
            "cell_type": "code",
            "execution_count": 4,
            "metadata": {},
            "outputs": [
                {
                    "name": "stdout",
                    "output_type": "stream",
                    "text": "[[ 0.  2.  4.]\n [ 1.  1.  2.]]\n"
                }
            ],
            "source": "print(P2)"
        },
        {
            "cell_type": "code",
            "execution_count": 8,
            "metadata": {
                "collapsed": true
            },
            "outputs": [],
            "source": "P=np.array([[2.,2,4],[1,1,2]])"
        },
        {
            "cell_type": "code",
            "execution_count": 9,
            "metadata": {},
            "outputs": [
                {
                    "name": "stdout",
                    "output_type": "stream",
                    "text": "[[ 2.  2.  4.]\n [ 1.  1.  2.]]\n"
                }
            ],
            "source": "P2=np.copy(P)\nP[0,0]=0\nprint(P2)"
        },
        {
            "cell_type": "code",
            "execution_count": 18,
            "metadata": {
                "collapsed": true
            },
            "outputs": [],
            "source": "P = np.copy(P2)"
        },
        {
            "cell_type": "code",
            "execution_count": 19,
            "metadata": {},
            "outputs": [
                {
                    "name": "stdout",
                    "output_type": "stream",
                    "text": "the sum is  1.0\n"
                },
                {
                    "data": {
                        "text/plain": "array([[ 0.16666667,  0.16666667,  0.33333333],\n       [ 0.08333333,  0.08333333,  0.16666667]])"
                    },
                    "execution_count": 19,
                    "metadata": {},
                    "output_type": "execute_result"
                }
            ],
            "source": "# Nrmalize the weights using basic Python\n\n#Compute the sum\ns=0\nfor i in range(P.shape[0]):\n    for j in range(P.shape[1]):\n        s+=P[i,j]\nprint('the sum is ',s)\n#divide by the sum\nfor i in range(P.shape[0]):\n    for j in range(P.shape[1]):\n        P[i,j] /= s\nP"
        },
        {
            "cell_type": "code",
            "execution_count": 20,
            "metadata": {},
            "outputs": [
                {
                    "data": {
                        "text/plain": "array([[ 0.16666667,  0.16666667,  0.33333333],\n       [ 0.08333333,  0.08333333,  0.16666667]])"
                    },
                    "execution_count": 20,
                    "metadata": {},
                    "output_type": "execute_result"
                }
            ],
            "source": "# Using Numpy we can write it in a much shorter way\nP2/=np.sum(P2)\nP2"
        },
        {
            "cell_type": "code",
            "execution_count": 21,
            "metadata": {
                "collapsed": true
            },
            "outputs": [],
            "source": "# The values that the random variables x and y take\nx=np.array([1,2,6])\ny=np.array([-1,1])"
        },
        {
            "cell_type": "code",
            "execution_count": 23,
            "metadata": {},
            "outputs": [
                {
                    "data": {
                        "text/plain": "(2, 3)"
                    },
                    "execution_count": 23,
                    "metadata": {},
                    "output_type": "execute_result"
                }
            ],
            "source": "P.shape"
        },
        {
            "cell_type": "markdown",
            "metadata": {},
            "source": "#### Computing Marginals\nThe marginal distributions are the probabilities associated with each random variable alone."
        },
        {
            "cell_type": "code",
            "execution_count": 25,
            "metadata": {},
            "outputs": [
                {
                    "data": {
                        "text/plain": "([0.25, 0.25, 0.5], [0.66666666666666663, 0.33333333333333331])"
                    },
                    "execution_count": 25,
                    "metadata": {},
                    "output_type": "execute_result"
                }
            ],
            "source": "# The pure python way\nPx=[0.]*P.shape[1]\nPy=[0.]*P.shape[0]\n\nfor i in range(len(Px)):\n    for j in range(len(Py)):\n        Px[i]+=P[j,i]\n        Py[j]+=P[j,i]\nPx,Py"
        },
        {
            "cell_type": "code",
            "execution_count": 27,
            "metadata": {},
            "outputs": [
                {
                    "data": {
                        "text/plain": "(array([ 0.25,  0.25,  0.5 ]), array([ 0.66666667,  0.33333333]))"
                    },
                    "execution_count": 27,
                    "metadata": {},
                    "output_type": "execute_result"
                }
            ],
            "source": "#the numpy way:\nPx=np.sum(P,axis=0)\nPy=np.sum(P,axis=1)\nPx,Py"
        },
        {
            "cell_type": "markdown",
            "metadata": {},
            "source": "### Testing independence\n\nIf two random variables $X$ and $Y$ are independent, then the outer product of the marginals should equal P."
        },
        {
            "cell_type": "code",
            "execution_count": 32,
            "metadata": {
                "collapsed": true
            },
            "outputs": [],
            "source": "# The pure python way\nfor i in range(Px.size):\n    for j in range(Py.size):\n        if Px[i]*Py[j] != P[j,i]:\n            print(\"Px[%d]*Py[%d] != P[%d,%d] ::::: %5.3f*%5.3f = %5.3f != %5.3f\"%(i,j,j,i,Px[i],Py[j],Px[i]*Py[j],P[j,i]))\n"
        },
        {
            "cell_type": "code",
            "execution_count": 33,
            "metadata": {},
            "outputs": [
                {
                    "data": {
                        "text/plain": "array([[ 0.,  0.,  0.],\n       [ 0.,  0.,  0.]])"
                    },
                    "execution_count": 33,
                    "metadata": {},
                    "output_type": "execute_result"
                }
            ],
            "source": "# The numpy way\nnp.outer(Px,Py).T - P"
        },
        {
            "cell_type": "markdown",
            "metadata": {},
            "source": "### Computing the covariance"
        },
        {
            "cell_type": "markdown",
            "metadata": {},
            "source": "### Calculating the mean and standard deviation\nTo calculate the mean of $X$ and $Y$ under this distribtion in python, we need to iterate through the values of $x$ and $y$ and plug them into the formuls $E[X] = \\sum_x P(X=x)x$. Similarly for standard deviation.\n"
        },
        {
            "cell_type": "code",
            "execution_count": 34,
            "metadata": {},
            "outputs": [
                {
                    "data": {
                        "text/plain": "(3.75, -0.33333333333333331, 2.277608394786075, 0.9428090415820634)"
                    },
                    "execution_count": 34,
                    "metadata": {},
                    "output_type": "execute_result"
                }
            ],
            "source": "from math import sqrt\n#The python way\nEx = 0\nfor i in range(3):\n    Ex+=Px[i]*x[i]\nEy = 0\nfor i in range(2):\n    Ey+=Py[i]*y[i]\n\nvarx = 0\nfor i in range(3):\n    varx+=Px[i]*(x[i] - Ex)**2\nstdx = sqrt(varx)\n\nvary = 0\nfor i in range(2):\n    vary+=Py[i]*(y[i] - Ey)**2\nstdy = sqrt(vary)\n\nEx,Ey,stdx,stdy"
        },
        {
            "cell_type": "code",
            "execution_count": 35,
            "metadata": {},
            "outputs": [
                {
                    "name": "stdout",
                    "output_type": "stream",
                    "text": "Ex=3.750000,Ey=-0.333333,stdx=2.277608,stdy=0.942809\n"
                }
            ],
            "source": "# In numpy you can use np.dot(A,B) which calculates the pairwise product of elements in A and B\n# and sums them up\nEx=np.dot(Px,x)\nEy=np.dot(Py,y)\nEx2=np.dot(Px,x**2)\nEy2=np.dot(Py,y**2)\nstdx=sqrt(Ex2-Ex**2)\nstdy=sqrt(Ey2-Ey**2)\nprint('Ex=%f,Ey=%f,stdx=%f,stdy=%f'%(Ex,Ey,stdx,stdy))"
        },
        {
            "cell_type": "markdown",
            "metadata": {},
            "source": "#### Subtract the means"
        },
        {
            "cell_type": "code",
            "execution_count": 36,
            "metadata": {},
            "outputs": [
                {
                    "data": {
                        "text/plain": "array([-2.75, -1.75,  2.25])"
                    },
                    "execution_count": 36,
                    "metadata": {},
                    "output_type": "execute_result"
                }
            ],
            "source": "nx=x-Ex\nnx"
        },
        {
            "cell_type": "code",
            "execution_count": 37,
            "metadata": {},
            "outputs": [
                {
                    "data": {
                        "text/plain": "array([-0.66666667,  1.33333333])"
                    },
                    "execution_count": 37,
                    "metadata": {},
                    "output_type": "execute_result"
                }
            ],
            "source": "ny=y-Ey\nny"
        },
        {
            "cell_type": "markdown",
            "metadata": {},
            "source": "### Calculate the covariance\n"
        },
        {
            "cell_type": "code",
            "execution_count": 38,
            "metadata": {},
            "outputs": [
                {
                    "name": "stdout",
                    "output_type": "stream",
                    "text": "the covariance is 1.11022302463e-16\n"
                }
            ],
            "source": "# in python\ns=0\nfor i in range(len(x)):\n    for j in range(len(y)):\n        s+=P[j,i]*nx[i]*ny[j]\nprint('the covariance is',s) #our expected values are now 0 so nothing to subtract"
        },
        {
            "cell_type": "code",
            "execution_count": 39,
            "metadata": {},
            "outputs": [
                {
                    "name": "stdout",
                    "output_type": "stream",
                    "text": "the covariance is 0.0\n"
                }
            ],
            "source": "# numpy\n\nprint('the covariance is', np.dot(P.flatten(), np.outer(ny,nx).flatten()))"
        },
        {
            "cell_type": "markdown",
            "metadata": {},
            "source": "### and the correlation\n"
        },
        {
            "cell_type": "code",
            "execution_count": 40,
            "metadata": {},
            "outputs": [
                {
                    "data": {
                        "text/plain": "(5.1702011052845407e-17, 2.277608394786075, 0.9428090415820634)"
                    },
                    "execution_count": 40,
                    "metadata": {},
                    "output_type": "execute_result"
                }
            ],
            "source": "s/(stdx*stdy),stdx,stdy"
        },
        {
            "cell_type": "code",
            "execution_count": 41,
            "metadata": {
                "collapsed": true
            },
            "outputs": [],
            "source": "import numpy as np\nfrom math import sqrt\n\ndef ComputeStatistics(P,x,y):\n    P/=np.sum(P) # normalize the disttribution\n    Px=np.sum(P,axis=0) # compute marginals\n    Py=np.sum(P,axis=1)\n    Ex=np.dot(Px,x)\n    Ey=np.dot(Py,y)\n    Ex2=np.dot(Px,x**2)\n    Ey2=np.dot(Py,y**2)\n    stdx=sqrt(Ex2-Ex**2)\n    stdy=sqrt(Ey2-Ey**2)\n    \n    nx=x-Ex\n    ny=y-Ey\n    \n    cov=np.dot(P.flatten(), np.outer(ny,nx).flatten())\n    corr=cov/(stdx*stdy)\n    return {\n        'P':P,\n        'x':x,\n        'y':y,\n        'Px':Px,\n        'Py':Py,\n        'Ex':Ex,\n        'Ey':Ey,\n        'stdx':stdx,\n        'stdy':stdy,\n        'cov':cov,\n        'corr':corr\n    }\n"
        },
        {
            "cell_type": "code",
            "execution_count": 42,
            "metadata": {},
            "outputs": [
                {
                    "name": "stdout",
                    "output_type": "stream",
                    "text": "[ 1.   1.2  1.4  1.6  1.8] [ 0.   0.2  0.4  0.6  0.8]\n"
                },
                {
                    "data": {
                        "text/plain": "array([[ 1.,  0.,  0.,  0.,  0.],\n       [ 0.,  1.,  0.,  0.,  0.],\n       [ 0.,  0.,  1.,  0.,  0.],\n       [ 0.,  0.,  0.,  1.,  0.],\n       [ 0.,  0.,  0.,  0.,  1.]])"
                    },
                    "execution_count": 42,
                    "metadata": {},
                    "output_type": "execute_result"
                }
            ],
            "source": "x=np.arange(1.,2.,0.2)\ny=np.arange(0.,1.,0.2)\nP=np.eye(5)\nprint(x,y)\nP"
        },
        {
            "cell_type": "code",
            "execution_count": 43,
            "metadata": {},
            "outputs": [
                {
                    "name": "stdout",
                    "output_type": "stream",
                    "text": "0.08 1.0\n"
                }
            ],
            "source": "A=ComputeStatistics(P,x,y)\nprint(A['cov'],A['corr'])"
        },
        {
            "cell_type": "markdown",
            "metadata": {},
            "source": "## Empirical statistics\n\nIf we now draw samples from these distributions, we can see that the emperical statistics, the population mean, population standard deviation and population covariance approach the original values of mean, standard deviation and covariance."
        },
        {
            "cell_type": "code",
            "execution_count": 44,
            "metadata": {},
            "outputs": [
                {
                    "data": {
                        "text/plain": "(array([ 0.36363636,  0.27272727,  0.36363636]), 0.0, -0.090909090909090912)"
                    },
                    "execution_count": 44,
                    "metadata": {},
                    "output_type": "execute_result"
                }
            ],
            "source": "P=np.array([[1.,1,1],[1,1,2],[2,1,1]])\nx=np.array([-1,0,1]); y=np.array([-1,0,1])\nA=ComputeStatistics(P,x,y)\nPx=A['Px']\nPx,A['Ex'],A['cov']"
        },
        {
            "cell_type": "code",
            "execution_count": 45,
            "metadata": {},
            "outputs": [
                {
                    "data": {
                        "text/plain": "array([ 0.36363636,  0.27272727,  0.36363636])"
                    },
                    "execution_count": 45,
                    "metadata": {},
                    "output_type": "execute_result"
                }
            ],
            "source": "Px"
        },
        {
            "cell_type": "code",
            "execution_count": 46,
            "metadata": {
                "scrolled": true
            },
            "outputs": [
                {
                    "data": {
                        "text/plain": "array([ 1,  1,  1,  0,  1,  0, -1, -1, -1, -1, -1,  1,  0, -1, -1,  1,  1,\n       -1, -1,  1, -1,  0,  0, -1,  1,  1, -1,  1,  1, -1,  1,  1,  1, -1,\n        1,  0,  0, -1, -1,  1,  0,  0, -1,  1, -1,  0,  0,  1,  1, -1,  1,\n        1,  1, -1,  1,  1, -1,  0,  1,  0, -1, -1, -1, -1, -1,  1, -1,  0,\n       -1, -1,  1,  1, -1, -1,  0,  1,  0,  1,  1, -1,  0,  1, -1,  0, -1,\n        0,  1,  0,  0, -1, -1, -1,  0,  1, -1,  1,  0, -1, -1,  0])"
                    },
                    "execution_count": 46,
                    "metadata": {},
                    "output_type": "execute_result"
                }
            ],
            "source": "np.random.choice(x,100,True, Px)"
        },
        {
            "cell_type": "code",
            "execution_count": 47,
            "metadata": {},
            "outputs": [
                {
                    "name": "stdout",
                    "output_type": "stream",
                    "text": "Sample mean after drawing 2 samples = -0.5\nSample mean after drawing 10 samples = 0.2\nSample mean after drawing 100 samples = -0.07\nSample mean after drawing 100000 samples = 0.00261\n"
                }
            ],
            "source": "numsamples = [2,10,100,100000]\n\nfor num in numsamples: \n    print(\"Sample mean after drawing {num} samples = {s}\".format(\n        num = num,\n        s = np.mean(np.random.choice(x, num, True, Px))\n    ))"
        },
        {
            "cell_type": "code",
            "execution_count": 48,
            "metadata": {},
            "outputs": [
                {
                    "data": {
                        "text/plain": "array([[ 1,  0],\n       [ 1,  1],\n       [ 0, -1],\n       [ 1,  0],\n       [-1, -1],\n       [ 0, -1],\n       [ 0,  1],\n       [ 1,  0],\n       [ 0,  1],\n       [-1,  1],\n       [-1,  1],\n       [-1, -1],\n       [ 1,  0],\n       [ 0,  1],\n       [-1,  1],\n       [ 1,  0],\n       [ 0,  1],\n       [ 1, -1],\n       [ 1,  0],\n       [-1, -1]])"
                    },
                    "execution_count": 48,
                    "metadata": {},
                    "output_type": "execute_result"
                }
            ],
            "source": "#To calculate the covariance, we will generate samples (x,y) form the joint distribution P\n#possible samples\nxy =  np.array([(i,j) for i in x for j in y])\nI=np.random.choice(xy.shape[0], num, True, P.T.flatten())\nxy[I][:20]"
        },
        {
            "cell_type": "code",
            "execution_count": 49,
            "metadata": {},
            "outputs": [
                {
                    "name": "stdout",
                    "output_type": "stream",
                    "text": "Population covariance after drawing 2 samples = 0.0\nPopulation covariance after drawing 10 samples = 0.02222222222222222\nPopulation covariance after drawing 100 samples = -0.20424242424242425\nPopulation covariance after drawing 100000 samples = -0.09311053000529987\n"
                }
            ],
            "source": "for num in numsamples:\n    samples = np.random.choice(xy.shape[0], num, True, P.T.flatten()), #choose rows\n    print(\"Population covariance after drawing {num} samples = {s}\".format(\n        num = num,\n        s = np.cov(\n            xy[samples][:,0],\n            xy[samples][:,1]\n        )[0,1]\n    ))"
        }
    ],
    "metadata": {
        "kernelspec": {
            "display_name": "Python [default]",
            "language": "python",
            "name": "python3"
        },
        "language_info": {
            "codemirror_mode": {
                "name": "ipython",
                "version": 3
            },
            "file_extension": ".py",
            "mimetype": "text/x-python",
            "name": "python",
            "nbconvert_exporter": "python",
            "pygments_lexer": "ipython3",
            "version": "3.6.2"
        },
        "toc": {
            "base_numbering": 1,
            "nav_menu": {
                "height": "142px",
                "width": "252px"
            },
            "number_sections": true,
            "sideBar": true,
            "skip_h1_title": false,
            "title_cell": "Table of Contents",
            "title_sidebar": "Contents",
            "toc_cell": false,
            "toc_position": {},
            "toc_section_display": "block",
            "toc_window_display": false
        },
        "varInspector": {
            "cols": {
                "lenName": 16,
                "lenType": 16,
                "lenVar": 40
            },
            "kernels_config": {
                "python": {
                    "delete_cmd_postfix": "",
                    "delete_cmd_prefix": "del ",
                    "library": "var_list.py",
                    "varRefreshCmd": "print(var_dic_list())"
                },
                "r": {
                    "delete_cmd_postfix": ") ",
                    "delete_cmd_prefix": "rm(",
                    "library": "var_list.r",
                    "varRefreshCmd": "cat(var_dic_list()) "
                }
            },
            "types_to_exclude": [
                "module",
                "function",
                "builtin_function_or_method",
                "instance",
                "_Feature"
            ],
            "window_display": false
        }
    },
    "nbformat": 4,
    "nbformat_minor": 2
}